{
 "cells": [
  {
   "cell_type": "code",
   "execution_count": 1,
   "metadata": {},
   "outputs": [],
   "source": [
    "from bs4 import BeautifulSoup\n",
    "from splinter import Browser\n",
    "from pprint import pprint\n",
    "import pymongo\n",
    "import pandas as pd\n",
    "import requests\n",
    "import lxml"
   ]
  },
  {
   "cell_type": "code",
   "execution_count": 2,
   "metadata": {},
   "outputs": [],
   "source": [
    "#nasa mars news\n",
    "executable_path = {'executable_path': '/anaconda3/chromedriver'}\n",
    "browser = Browser('chrome', **executable_path,headless=False)\n",
    "url = ('https://mars.nasa.gov/news/?page=0&per_page=40&order=publish_date+desc%2Ccreated_at+desc&search=&category=19%2C165%2C184%2C204&blank_scope=Latest')\n",
    "response = requests.get(url)\n",
    "soup = BeautifulSoup(response.text, 'html.parser')"
   ]
  },
  {
   "cell_type": "code",
   "execution_count": null,
   "metadata": {},
   "outputs": [],
   "source": [
    "print(soup.prettify())"
   ]
  },
  {
   "cell_type": "code",
   "execution_count": null,
   "metadata": {},
   "outputs": [],
   "source": [
    "#jpl mars space images\n",
    "things = soup.find_all('div', class_=\"slide\")\n",
    "for thing in things:\n",
    "    content_title = thing.find('div', class_=\"content_title\")\n",
    "    content_title_inner = content_title.find('a').text\n",
    "    rollover_description = thing.find('div', class_=\"rollover_description\")\n",
    "    rollover_description_inner = rollover_description.find('div', class_=\"rollover_description_inner\").text\n",
    "    print('____Next_____')\n",
    "    print(content_title_inner)\n",
    "    print(rollover_description_inner)"
   ]
  },
  {
   "cell_type": "code",
   "execution_count": null,
   "metadata": {},
   "outputs": [],
   "source": [
    "url = ('https://www.jpl.nasa.gov/spaceimages/?search=&category=Mars')\n",
    "response = requests.get(url)\n",
    "soup = BeautifulSoup(response.text, 'html.parser')"
   ]
  },
  {
   "cell_type": "code",
   "execution_count": null,
   "metadata": {},
   "outputs": [],
   "source": [
    "print(soup.prettify())"
   ]
  },
  {
   "cell_type": "code",
   "execution_count": null,
   "metadata": {},
   "outputs": [],
   "source": [
    "images = soup.find_all('a', class_=\"fancybox\")\n",
    "print(images)"
   ]
  },
  {
   "cell_type": "code",
   "execution_count": null,
   "metadata": {},
   "outputs": [],
   "source": [
    "pic_src = []\n",
    "for image in images:\n",
    "    pic = image['data-fancybox-href']\n",
    "    pic_src.append(pic)\n",
    "featured_image_url = 'https://www.jpl.nasa.gov' + pic\n",
    "featured_image_url"
   ]
  },
  {
   "cell_type": "code",
   "execution_count": null,
   "metadata": {},
   "outputs": [],
   "source": [
    "#twitter\n",
    "url = ('https://twitter.com/marswxreport?lang=en')\n",
    "response = requests.get(url)\n",
    "soup = BeautifulSoup(response.text, 'html.parser')"
   ]
  },
  {
   "cell_type": "code",
   "execution_count": null,
   "metadata": {},
   "outputs": [],
   "source": [
    "print(soup.prettify())"
   ]
  },
  {
   "cell_type": "code",
   "execution_count": null,
   "metadata": {},
   "outputs": [],
   "source": [
    "tweets = soup.find_all(\"div\",class_=\"content\")\n",
    "print(tweets)"
   ]
  },
  {
   "cell_type": "code",
   "execution_count": null,
   "metadata": {},
   "outputs": [],
   "source": [
    "mars_weather = []\n",
    "for twit in tweets:\n",
    "    tweet = twit.find(\"div\", class_=\"js-tweet-text-container\").text\n",
    "    mars_weather.append(tweet)\n",
    "print(mars_weather)"
   ]
  },
  {
   "cell_type": "code",
   "execution_count": null,
   "metadata": {},
   "outputs": [],
   "source": [
    "#factx\n",
    "mpp = pd.read_html(\"https://space-facts.com/mars/\")\n",
    "mpp = pd.DataFrame([\"demention\", \"measure\"])"
   ]
  },
  {
   "cell_type": "code",
   "execution_count": null,
   "metadata": {},
   "outputs": [],
   "source": [
    "fact = mpp.to_html()\n",
    "fact = fact.replace(\"\\n\",\"\")\n",
    "fact"
   ]
  },
  {
   "cell_type": "code",
   "execution_count": null,
   "metadata": {},
   "outputs": [],
   "source": [
    "url = ('https://astrogeology.usgs.gov/search/map/Mars/Viking/cerberus_enhanced')\n",
    "response = requests.get(url)\n",
    "soup = BeautifulSoup(response.text, 'html.parser')"
   ]
  },
  {
   "cell_type": "code",
   "execution_count": null,
   "metadata": {},
   "outputs": [],
   "source": [
    "print(soup.prettify())"
   ]
  },
  {
   "cell_type": "code",
   "execution_count": null,
   "metadata": {},
   "outputs": [],
   "source": [
    "cerberus = soup.find_all('div', class_=\"wide-image-wrapper\")\n",
    "print(cerberus)"
   ]
  },
  {
   "cell_type": "code",
   "execution_count": null,
   "metadata": {},
   "outputs": [],
   "source": [
    "for cerberu in cerberus:\n",
    "    who = cerberu.find('li')\n",
    "    wut = who.find('a')['href']\n",
    "    print(wut)\n",
    "cerberusf = soup.find('h2', class_='title').text\n",
    "print(cerberusf)\n",
    "cerbs = {\"Title\": cerberusf, \"url\": wut}\n",
    "print(cerbs)"
   ]
  },
  {
   "cell_type": "code",
   "execution_count": null,
   "metadata": {},
   "outputs": [],
   "source": [
    "url = ('https://astrogeology.usgs.gov/search/map/Mars/Viking/schiaparelli_enhanced')\n",
    "response = requests.get(url)\n",
    "soup = BeautifulSoup(response.text, 'html.parser')"
   ]
  },
  {
   "cell_type": "code",
   "execution_count": null,
   "metadata": {},
   "outputs": [],
   "source": [
    "print(soup.prettify())"
   ]
  },
  {
   "cell_type": "code",
   "execution_count": null,
   "metadata": {},
   "outputs": [],
   "source": [
    "schiaparelli = soup.find_all('div', class_=\"wide-image-wrapper\")\n",
    "print(schiaparelli)"
   ]
  },
  {
   "cell_type": "code",
   "execution_count": null,
   "metadata": {},
   "outputs": [],
   "source": [
    "for schiaparell in schiaparelli:\n",
    "    who = schiaparell.find('li')\n",
    "    wut = who.find('a')['href']\n",
    "    print(wut)\n",
    "shiaparellif = soup.find('h2', class_='title').text\n",
    "print(shiaparellif)\n",
    "sherps = {\"Title\": shiaparellif, \"url\": wut}\n",
    "print(sherps)"
   ]
  },
  {
   "cell_type": "code",
   "execution_count": null,
   "metadata": {},
   "outputs": [],
   "source": [
    "url = ('https://astrogeology.usgs.gov/search/map/Mars/Viking/syrtis_major_enhanced')\n",
    "response = requests.get(url)\n",
    "soup = BeautifulSoup(response.text, 'html.parser')"
   ]
  },
  {
   "cell_type": "code",
   "execution_count": null,
   "metadata": {},
   "outputs": [],
   "source": [
    "print(soup.prettify())"
   ]
  },
  {
   "cell_type": "code",
   "execution_count": null,
   "metadata": {},
   "outputs": [],
   "source": [
    "Syrtis = soup.find_all('div', class_=\"wide-image-wrapper\")\n",
    "print(Syrtis)\n"
   ]
  },
  {
   "cell_type": "code",
   "execution_count": null,
   "metadata": {},
   "outputs": [],
   "source": [
    "for Syrti in Syrtis:\n",
    "    who = Syrti.find('li')\n",
    "    wut = who.find('a')['href']\n",
    "    print(wut)\n",
    "Syrtisf = soup.find('h2', class_='title').text\n",
    "print(Syrtisf)\n",
    "Syr = {\"Title\": Syrtisf, \"url\": wut}\n",
    "print(Syr)"
   ]
  },
  {
   "cell_type": "code",
   "execution_count": null,
   "metadata": {},
   "outputs": [],
   "source": [
    "url = ('https://astrogeology.usgs.gov/search/map/Mars/Viking/valles_marineris_enhanced')\n",
    "response = requests.get(url)\n",
    "soup = BeautifulSoup(response.text, 'html.parser')"
   ]
  },
  {
   "cell_type": "code",
   "execution_count": null,
   "metadata": {},
   "outputs": [],
   "source": [
    "valles = soup.find_all('div', class_=\"wide-image-wrapper\")\n",
    "print(valles)"
   ]
  },
  {
   "cell_type": "code",
   "execution_count": null,
   "metadata": {},
   "outputs": [],
   "source": [
    "for valle in valles:\n",
    "    who = valle.find('li')\n",
    "    wut = who.find('a')['href']\n",
    "    print(wut)\n",
    "vallesf = soup.find('h2', class_='title').text\n",
    "print(vallesf)\n",
    "valley = {\"Title\": vallesf, \"url\": wut}\n",
    "print(valley)"
   ]
  },
  {
   "cell_type": "code",
   "execution_count": null,
   "metadata": {},
   "outputs": [],
   "source": []
  }
 ],
 "metadata": {
  "kernelspec": {
   "display_name": "Python 3",
   "language": "python",
   "name": "python3"
  },
  "language_info": {
   "codemirror_mode": {
    "name": "ipython",
    "version": 3
   },
   "file_extension": ".py",
   "mimetype": "text/x-python",
   "name": "python",
   "nbconvert_exporter": "python",
   "pygments_lexer": "ipython3",
   "version": "3.7.3"
  }
 },
 "nbformat": 4,
 "nbformat_minor": 2
}
